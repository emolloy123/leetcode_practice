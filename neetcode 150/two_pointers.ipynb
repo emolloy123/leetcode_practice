{
 "cells": [
  {
   "cell_type": "code",
   "execution_count": null,
   "metadata": {},
   "outputs": [],
   "source": [
    "import pandas as pd"
   ]
  },
  {
   "cell_type": "markdown",
   "metadata": {},
   "source": [
    "# Valid Palindrome"
   ]
  },
  {
   "cell_type": "markdown",
   "metadata": {},
   "source": [
    "My attempt"
   ]
  },
  {
   "cell_type": "code",
   "execution_count": 35,
   "metadata": {},
   "outputs": [],
   "source": [
    "def isPalindrome(s: str) -> bool:\n",
    "         \n",
    "    s = s.upper().replace(\" \", \"\")\n",
    "    print(s)\n",
    "    i = 0\n",
    "    j = len(s)-1\n",
    "\n",
    "\n",
    "    while i < j:\n",
    "        print(s[i], s[j])\n",
    "        while ord(s[i])<65 or ord(s[i])>90:\n",
    "            i+=1\n",
    "        while ord(s[j])<65 or ord(s[j])>90:\n",
    "            j-=1\n",
    "\n",
    "        print(s[i], s[j])\n",
    "\n",
    "        if s[i]!=s[j]:\n",
    "            return False\n",
    "        else:\n",
    "            i+=1\n",
    "            j-=1\n",
    "    return True\n",
    "\n"
   ]
  },
  {
   "cell_type": "markdown",
   "metadata": {},
   "source": [
    "Optimal solution"
   ]
  },
  {
   "cell_type": "code",
   "execution_count": 39,
   "metadata": {},
   "outputs": [],
   "source": [
    "def isPalindrome(s: str) -> bool:\n",
    "    \n",
    "    l, r = 0, len(s) - 1\n",
    "\n",
    "    while l < r:\n",
    "        while l < r and not alphaNum(s[l]):\n",
    "            l += 1\n",
    "        while r > l and not alphaNum(s[r]):\n",
    "            r -= 1\n",
    "        if s[l].lower() != s[r].lower():\n",
    "            return False\n",
    "        l, r = l + 1, r - 1\n",
    "    return True\n",
    "\n",
    "def alphaNum( c):\n",
    "    return (ord('A') <= ord(c) <= ord('Z') or \n",
    "            ord('a') <= ord(c) <= ord('z') or \n",
    "            ord('0') <= ord(c) <= ord('9'))"
   ]
  },
  {
   "cell_type": "code",
   "execution_count": 40,
   "metadata": {},
   "outputs": [
    {
     "data": {
      "text/plain": [
       "True"
      ]
     },
     "execution_count": 40,
     "metadata": {},
     "output_type": "execute_result"
    }
   ],
   "source": [
    "s = \"Was it a car or a cat I saw?\"\n",
    "# s=\" \"\n",
    "# s = \"ab\"\n",
    "# s=\"tab a cat\"\n",
    "s=\"Never odd or even\"\n",
    "\n",
    "isPalindrome(s)"
   ]
  },
  {
   "cell_type": "markdown",
   "metadata": {},
   "source": [
    "Two Integer Sum 2"
   ]
  },
  {
   "cell_type": "code",
   "execution_count": 2,
   "metadata": {},
   "outputs": [],
   "source": [
    "from typing import List"
   ]
  },
  {
   "cell_type": "code",
   "execution_count": 5,
   "metadata": {},
   "outputs": [],
   "source": [
    "def twoSum(nums:List[int], target:int) -> List[int]:\n",
    "    i = 0\n",
    "    j = len(nums)-1\n",
    "\n",
    "    while True:\n",
    "        if nums[i]+nums[j]==target:\n",
    "            return [i+1, j+1]\n",
    "        elif nums[i]+nums[j]>target:\n",
    "            j-=1\n",
    "        elif nums[i]+nums[j]<target:\n",
    "            i+=1\n",
    "        "
   ]
  },
  {
   "cell_type": "code",
   "execution_count": 6,
   "metadata": {},
   "outputs": [
    {
     "data": {
      "text/plain": [
       "[1, 2]"
      ]
     },
     "execution_count": 6,
     "metadata": {},
     "output_type": "execute_result"
    }
   ],
   "source": [
    "nums = [1, 2, 3, 4]\n",
    "target = 3\n",
    "twoSum(nums, target)"
   ]
  },
  {
   "cell_type": "code",
   "execution_count": null,
   "metadata": {},
   "outputs": [],
   "source": []
  }
 ],
 "metadata": {
  "kernelspec": {
   "display_name": "Python 3",
   "language": "python",
   "name": "python3"
  },
  "language_info": {
   "codemirror_mode": {
    "name": "ipython",
    "version": 3
   },
   "file_extension": ".py",
   "mimetype": "text/x-python",
   "name": "python",
   "nbconvert_exporter": "python",
   "pygments_lexer": "ipython3",
   "version": "3.10.7"
  }
 },
 "nbformat": 4,
 "nbformat_minor": 2
}
