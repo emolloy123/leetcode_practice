{
 "cells": [
  {
   "attachments": {},
   "cell_type": "markdown",
   "metadata": {},
   "source": [
    "# Duplicate Integer\n"
   ]
  },
  {
   "attachments": {},
   "cell_type": "markdown",
   "metadata": {},
   "source": [
    "My solution (optimal)"
   ]
  },
  {
   "cell_type": "code",
   "execution_count": 4,
   "metadata": {},
   "outputs": [],
   "source": [
    "def hasDuplicate(nums) -> bool:\n",
    "        nums_set = set()\n",
    "\n",
    "        for val in nums:\n",
    "            print(val)\n",
    "            if val not in nums_set:\n",
    "                nums_set.add(val)\n",
    "            else:\n",
    "                return True\n",
    "        return False"
   ]
  },
  {
   "cell_type": "code",
   "execution_count": 5,
   "metadata": {},
   "outputs": [
    {
     "name": "stdout",
     "output_type": "stream",
     "text": [
      "1\n",
      "2\n",
      "3\n",
      "4\n"
     ]
    },
    {
     "data": {
      "text/plain": [
       "False"
      ]
     },
     "execution_count": 5,
     "metadata": {},
     "output_type": "execute_result"
    }
   ],
   "source": [
    "nums = [1,2,3,4]\n",
    "hasDuplicate(nums)"
   ]
  },
  {
   "attachments": {},
   "cell_type": "markdown",
   "metadata": {},
   "source": [
    "# Valid Anagram\n",
    "My solution"
   ]
  },
  {
   "cell_type": "code",
   "execution_count": 41,
   "metadata": {},
   "outputs": [],
   "source": [
    "from collections import Counter\n",
    "def isAnagram( s: str, t: str) -> bool:\n",
    "\n",
    "    if len(s)!=len(t):\n",
    "        return False\n",
    "    s_dict = Counter(s)\n",
    "    t_dict = Counter(t)\n",
    "\n",
    "    for k in s_dict.keys():\n",
    "        try:\n",
    "            if s_dict[k]!=t_dict[k]:\n",
    "                return False\n",
    "        except IndexError:\n",
    "            return False\n",
    "\n",
    "    return True"
   ]
  },
  {
   "attachments": {},
   "cell_type": "markdown",
   "metadata": {},
   "source": [
    "Optimal Solution"
   ]
  },
  {
   "cell_type": "code",
   "execution_count": 13,
   "metadata": {},
   "outputs": [],
   "source": [
    "def isAnagram( s: str, t: str) -> bool:\n",
    "\n",
    "    if len(s) != len(t):\n",
    "        return False\n",
    "\n",
    "    count = [0] * 26 # 26 for all letters\n",
    "    for i in range(len(s)):\n",
    "        # Letters should balance each other out essentially in an anagram\n",
    "\n",
    "        count[ord(s[i]) - ord('a')] += 1\n",
    "        count[ord(t[i]) - ord('a')] -= 1\n",
    "    for val in count:\n",
    "        if val != 0:\n",
    "            return False\n",
    "    return True"
   ]
  },
  {
   "cell_type": "code",
   "execution_count": 14,
   "metadata": {},
   "outputs": [
    {
     "data": {
      "text/plain": [
       "False"
      ]
     },
     "execution_count": 14,
     "metadata": {},
     "output_type": "execute_result"
    }
   ],
   "source": [
    "# s = \"racecar\"\n",
    "# t = \"carrace\"\n",
    "s = \"jar\"\n",
    "t = \"jam\"\n",
    "# s=\"a\"\n",
    "# t=\"ab\"\n",
    "isAnagram(s,t)"
   ]
  },
  {
   "attachments": {},
   "cell_type": "markdown",
   "metadata": {},
   "source": [
    "# Two Integer Sum"
   ]
  },
  {
   "cell_type": "code",
   "execution_count": 15,
   "metadata": {},
   "outputs": [],
   "source": [
    "from typing import List\n",
    "def twoSum(nums: List[int], target: int) -> List[int]:\n",
    "\n",
    "    # map value to index in dictionary\n",
    "    hashmap = {}\n",
    "\n",
    "    for ind, val in enumerate(nums):\n",
    "        diff = target-val\n",
    "        if diff in hashmap.keys():\n",
    "            return [ind,hashmap[diff]]\n",
    "        hashmap[val] = ind\n",
    "    print(hashmap)"
   ]
  },
  {
   "cell_type": "code",
   "execution_count": 16,
   "metadata": {},
   "outputs": [
    {
     "data": {
      "text/plain": [
       "[2, 0]"
      ]
     },
     "execution_count": 16,
     "metadata": {},
     "output_type": "execute_result"
    }
   ],
   "source": [
    "nums = [3, 4,5,6]\n",
    "target = 7\n",
    "nums=[3,2,3]\n",
    "target=6\n",
    "twoSum(nums, target)"
   ]
  },
  {
   "attachments": {},
   "cell_type": "markdown",
   "metadata": {},
   "source": [
    "# Anagram Groups"
   ]
  },
  {
   "attachments": {},
   "cell_type": "markdown",
   "metadata": {},
   "source": [
    "My solution (suboptimal)"
   ]
  },
  {
   "cell_type": "code",
   "execution_count": 41,
   "metadata": {},
   "outputs": [],
   "source": [
    "def groupAnagrams(strs: List[str]) -> List[List[str]]:\n",
    "\n",
    "    anagram_pairs = {}\n",
    "    visited = []\n",
    "    for i in range(0, len(strs)): #loop through each element individualy\n",
    "        if strs[i] in visited:\n",
    "            continue\n",
    "        anagram_pairs[strs[i]] = [strs[i]]\n",
    "        visited.append(strs[i])\n",
    "        for j in range(i+1, len(strs)): #compare current element with \n",
    "            \n",
    "            if isAnagram(strs[i], strs[j]):\n",
    "                anagram_pairs[strs[i]].append(strs[j])  \n",
    "                visited.append(strs[j])\n",
    "        \n",
    "    returned_list = []\n",
    "    for val in anagram_pairs.values():\n",
    "        returned_list.append(val)\n",
    "    return returned_list"
   ]
  },
  {
   "attachments": {},
   "cell_type": "markdown",
   "metadata": {},
   "source": [
    "Optimal Solution"
   ]
  },
  {
   "cell_type": "code",
   "execution_count": 64,
   "metadata": {},
   "outputs": [],
   "source": [
    "from collections import defaultdict\n",
    "\n",
    "def groupAnagrams(strs: List[str]) -> List[List[str]]:\n",
    "\n",
    "    res = defaultdict(list) #mapping char count to list of anagrams\n",
    "\n",
    "    for word in strs:\n",
    "        count = [0]*26\n",
    "        for letter in word:\n",
    "            count[ord(letter) - ord('a')] += 1\n",
    "       \n",
    "        \n",
    "        res[tuple(count)].append(word)\n",
    "    return res.values()\n",
    "\n",
    "\n"
   ]
  },
  {
   "cell_type": "code",
   "execution_count": 65,
   "metadata": {},
   "outputs": [
    {
     "data": {
      "text/plain": [
       "dict_values([['act', 'cat'], ['pots', 'tops', 'stop'], ['hat']])"
      ]
     },
     "execution_count": 65,
     "metadata": {},
     "output_type": "execute_result"
    }
   ],
   "source": [
    "strs = [\"act\",\"pots\",\"tops\",\"cat\",\"stop\",\"hat\"]\n",
    "# strs = [\"x\"]\n",
    "# strs = [\"\"]\n",
    "groupAnagrams(strs)"
   ]
  },
  {
   "attachments": {},
   "cell_type": "markdown",
   "metadata": {},
   "source": [
    "# Top K most frequent elements"
   ]
  },
  {
   "attachments": {},
   "cell_type": "markdown",
   "metadata": {},
   "source": [
    "My solution"
   ]
  },
  {
   "cell_type": "code",
   "execution_count": 80,
   "metadata": {},
   "outputs": [],
   "source": [
    "def topKFrequent(nums: List[int], k: int) -> List[int]:\n",
    "    \n",
    "    res = {} # map values to count\n",
    "\n",
    "    for val in nums:\n",
    "        if val not in res.keys():\n",
    "            res[val] = 1\n",
    "        else:\n",
    "            res[val]+=1\n",
    "    # Sort dictionary based on count\n",
    "    res = dict(sorted(res.items(), key=lambda item: item[1], reverse=True))\n",
    "\n",
    "    keys = list(res.keys())\n",
    "\n",
    "    return list(set(keys[0:k]))"
   ]
  },
  {
   "attachments": {},
   "cell_type": "markdown",
   "metadata": {},
   "source": [
    "Optimal (bucket sort)"
   ]
  },
  {
   "cell_type": "code",
   "execution_count": 101,
   "metadata": {},
   "outputs": [],
   "source": [
    "def topKFrequent(nums: List[int], k: int) -> List[int]:\n",
    "    \n",
    "    count = {}\n",
    "    freq = [[] for i in range(len(nums) + 1)]\n",
    "\n",
    "    for num in nums:\n",
    "        count[num] = 1 + count.get(num, 0)\n",
    "    for num, cnt in count.items():\n",
    "        freq[cnt].append(num)\n",
    "    \n",
    "    res = []\n",
    "    for i in range(len(freq) - 1, 0, -1): #loop through list backeards\n",
    "        for num in freq[i]: # loop through each list\n",
    "            res.append(num)\n",
    "            if len(res) == k:\n",
    "                return res\n",
    "\n"
   ]
  },
  {
   "attachments": {},
   "cell_type": "markdown",
   "metadata": {},
   "source": [
    "Heap (Better than my solution but not better than bucket sort)"
   ]
  },
  {
   "cell_type": "code",
   "execution_count": null,
   "metadata": {},
   "outputs": [],
   "source": []
  },
  {
   "cell_type": "code",
   "execution_count": 103,
   "metadata": {},
   "outputs": [
    {
     "data": {
      "text/plain": [
       "[3, 2]"
      ]
     },
     "execution_count": 103,
     "metadata": {},
     "output_type": "execute_result"
    }
   ],
   "source": [
    "nums = [1,2,2,3,3,3]\n",
    "k = 2\n",
    "# nums = [7,7]\n",
    "# k = 1\n",
    "topKFrequent(nums, k)"
   ]
  },
  {
   "attachments": {},
   "cell_type": "markdown",
   "metadata": {},
   "source": [
    "# Encode decode String"
   ]
  },
  {
   "attachments": {},
   "cell_type": "markdown",
   "metadata": {},
   "source": [
    "My solution (with some ideation help from neetcode video)"
   ]
  },
  {
   "cell_type": "code",
   "execution_count": 205,
   "metadata": {},
   "outputs": [],
   "source": [
    "def encode(strs: List[str]) -> str:\n",
    "    ret_s = ''\n",
    "    for s in strs:\n",
    "        ret_s+=str(len(s))+'#'+s #each string begins with length of string then delimiter #\n",
    "    return ret_s\n",
    "\n",
    "def decode(s:str) -> List[str]:\n",
    "    empt_list = []\n",
    "    curr = 0\n",
    "    while curr < len(s):\n",
    "        j = 0\n",
    "        str_len = ''\n",
    "        while s[curr+j]!='#':\n",
    "            \n",
    "            str_len+=s[curr+j]\n",
    "            j+=1\n",
    "        str_len = int(str_len)\n",
    "        curr +=j\n",
    "        curr_str = s[curr+1:curr+1+str_len]\n",
    "\n",
    "        empt_list.append(curr_str)\n",
    "        curr += 1+str_len\n",
    "    return empt_list"
   ]
  },
  {
   "attachments": {},
   "cell_type": "markdown",
   "metadata": {},
   "source": [
    "Optimal solution (from Neetcode, is more readable and better)"
   ]
  },
  {
   "cell_type": "code",
   "execution_count": null,
   "metadata": {},
   "outputs": [],
   "source": [
    "    \n",
    "def encode( strs: List[str]) -> str:\n",
    "    res = \"\"\n",
    "    for s in strs:\n",
    "        res += str(len(s)) + \"#\" + s\n",
    "    return res\n",
    "\n",
    "def decode(s: str) -> List[str]:\n",
    "    res = []\n",
    "    i = 0\n",
    "    \n",
    "    while i < len(s):\n",
    "        j = i\n",
    "        while s[j] != '#':\n",
    "            j += 1\n",
    "        length = int(s[i:j])\n",
    "        i = j + 1\n",
    "        j = i + length\n",
    "        res.append(s[i:j])\n",
    "        i = j\n",
    "        \n",
    "    return res"
   ]
  },
  {
   "attachments": {},
   "cell_type": "markdown",
   "metadata": {},
   "source": [
    "Alternative solution"
   ]
  },
  {
   "cell_type": "code",
   "execution_count": null,
   "metadata": {},
   "outputs": [],
   "source": [
    "def encode(self, strs: List[str]) -> str:\n",
    "    \"\"\"\n",
    "    Encodes a list of strings to a single string.\n",
    "\n",
    "    Each string is prefixed with its length in a 4-character wide field, \n",
    "    allowing for easy extraction during decoding.\n",
    "    \"\"\"\n",
    "    encoded_string = []\n",
    "    for string in strs:\n",
    "        # '{:4}' formats the length into a 4-character wide field, \n",
    "        # padding with spaces if the number is less than 4 characters long.\n",
    "        length_prefix = '{:4}'.format(len(string))\n",
    "        encoded_string.append(length_prefix + string)\n",
    "    return ''.join(encoded_string)\n",
    "\n",
    "def decode(self, s: str) -> List[str]:\n",
    "    \"\"\"\n",
    "    Decodes a single string to a list of strings.\n",
    "    \n",
    "    Each string was encoded with a 4-character length prefix, which we use to \n",
    "    determine where one string ends and the next begins.\n",
    "    \"\"\"\n",
    "    decoded_strings = []\n",
    "    i = 0\n",
    "    n = len(s)\n",
    "    while i < n:\n",
    "        # Extract the length of the next string, which is stored in the first 4 characters.\n",
    "        size = int(s[i: i + 4])\n",
    "        i += 4\n",
    "        # Extract the string of the given length.\n",
    "        decoded_strings.append(s[i: i + size])\n",
    "        i += size\n",
    "    return decoded_strings"
   ]
  },
  {
   "cell_type": "code",
   "execution_count": 207,
   "metadata": {},
   "outputs": [
    {
     "name": "stdout",
     "output_type": "stream",
     "text": [
      "ret_s 4#neet4#code4#love3#you\n",
      "4\n",
      "['neet']\n",
      "4\n",
      "['neet', 'code']\n",
      "4\n",
      "['neet', 'code', 'love']\n",
      "3\n",
      "['neet', 'code', 'love', 'you']\n"
     ]
    },
    {
     "data": {
      "text/plain": [
       "['neet', 'code', 'love', 'you']"
      ]
     },
     "execution_count": 207,
     "metadata": {},
     "output_type": "execute_result"
    }
   ],
   "source": [
    "strs = [\"neet\",\"code\",\"love\",\"you\"]\n",
    "# strs = []\n",
    "# strs = [\"\"]\n",
    "# strs = [\"we\",\"say\",\":\",\"yes\",\"!@#$%^&*()\"]\n",
    "\n",
    "s = encode(strs)\n",
    "print('ret_s', s)\n",
    "decode(s)"
   ]
  },
  {
   "attachments": {},
   "cell_type": "markdown",
   "metadata": {},
   "source": [
    "# Products of Array Except Self"
   ]
  },
  {
   "attachments": {},
   "cell_type": "markdown",
   "metadata": {},
   "source": [
    "Brute force (My attempt)"
   ]
  },
  {
   "cell_type": "code",
   "execution_count": 128,
   "metadata": {},
   "outputs": [],
   "source": [
    "def productExceptSelf(nums):\n",
    "\n",
    "    prefixes = [nums[0]]\n",
    "\n",
    "    suffixes = [nums[len(nums)-1]]\n",
    "    for i in range(1,len(nums)):\n",
    "\n",
    "        prefixes.append(prefixes[i-1]*nums[i-1])\n",
    "        \n",
    "    for i, j in enumerate(range(len(nums)-1, 0, -1)):\n",
    "        if i ==0:\n",
    "            i+=1\n",
    "        suffixes.append(prefixes[i-1]*nums[j-1])\n",
    "    print(suffixes)"
   ]
  },
  {
   "attachments": {},
   "cell_type": "markdown",
   "metadata": {},
   "source": [
    "Division"
   ]
  },
  {
   "cell_type": "code",
   "execution_count": 9,
   "metadata": {},
   "outputs": [],
   "source": [
    "def productExceptSelf(nums):\n",
    "    prod, zero_cnt = 1, 0\n",
    "    for num in nums:\n",
    "        if num:\n",
    "            prod *= num\n",
    "        else:\n",
    "            zero_cnt +=  1\n",
    "\n",
    "            # if theres 2 or more zeros then everything will be zero\n",
    "    if zero_cnt > 1: return [0] * len(nums)\n",
    "\n",
    "    res = [0] * len(nums)\n",
    "    for i, c in enumerate(nums):\n",
    "        if zero_cnt: res[i] = 0 if c else prod\n",
    "        else: res[i] = prod // c\n",
    "    return res"
   ]
  },
  {
   "attachments": {},
   "cell_type": "markdown",
   "metadata": {},
   "source": [
    "Prefix & Suffix (Sub-optimal)"
   ]
  },
  {
   "cell_type": "code",
   "execution_count": 13,
   "metadata": {},
   "outputs": [],
   "source": [
    "def productExceptSelf(nums):\n",
    "\n",
    "    n = len(nums)\n",
    "\n",
    "    res = [0]*n\n",
    "    pref = [0]*n\n",
    "    suff = [0]*n\n",
    "\n",
    "    pref[0] = suff[n-1] = 1 #set outside suffix and prefix boudns as 1\n",
    "\n",
    "    for i in range(1,n):\n",
    "        pref[i] = nums[i-1]*pref[i-1]\n",
    "    for i in range(n-2,-1,-1):\n",
    "        suff[i] = nums[i+1]*suff[i+1]\n",
    "    for i in range(n):\n",
    "        res[i] = pref[i]*suff[i]\n",
    "    return res"
   ]
  },
  {
   "attachments": {},
   "cell_type": "markdown",
   "metadata": {},
   "source": [
    "Prefix & Suffix (Optimal)"
   ]
  },
  {
   "cell_type": "code",
   "execution_count": 15,
   "metadata": {},
   "outputs": [],
   "source": [
    "def productExceptSelf(nums):\n",
    "\n",
    "    res = [1]*len(nums)\n",
    "\n",
    "    prefix = 1\n",
    "    for i in range(len(nums)):\n",
    "        res[i] = prefix\n",
    "        prefix *= nums[i]\n",
    "\n",
    "    postfix = 1\n",
    "    for i in range(len(nums)-1,-1,-1):\n",
    "        res[i]*=postfix\n",
    "        postfix*=nums[i]\n",
    "        \n",
    "    return res"
   ]
  },
  {
   "cell_type": "code",
   "execution_count": 17,
   "metadata": {},
   "outputs": [
    {
     "data": {
      "text/plain": [
       "[48, 24, 12, 8]"
      ]
     },
     "execution_count": 17,
     "metadata": {},
     "output_type": "execute_result"
    }
   ],
   "source": [
    "nums = [1,2,4,6]\n",
    "# nums = [-1,0,1,0,3]\n",
    "# nums=[0,0]\n",
    "\n",
    "productExceptSelf(nums)"
   ]
  },
  {
   "attachments": {},
   "cell_type": "markdown",
   "metadata": {},
   "source": []
  }
 ],
 "metadata": {
  "kernelspec": {
   "display_name": "Python 3",
   "language": "python",
   "name": "python3"
  },
  "language_info": {
   "codemirror_mode": {
    "name": "ipython",
    "version": 3
   },
   "file_extension": ".py",
   "mimetype": "text/x-python",
   "name": "python",
   "nbconvert_exporter": "python",
   "pygments_lexer": "ipython3",
   "version": "3.10.7"
  },
  "orig_nbformat": 4
 },
 "nbformat": 4,
 "nbformat_minor": 2
}
