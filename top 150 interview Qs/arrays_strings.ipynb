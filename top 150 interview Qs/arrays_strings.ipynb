{
 "cells": [
  {
   "attachments": {},
   "cell_type": "markdown",
   "metadata": {},
   "source": [
    "# Easy"
   ]
  },
  {
   "attachments": {},
   "cell_type": "markdown",
   "metadata": {},
   "source": [
    "## 88. Merge Sorted Array"
   ]
  },
  {
   "attachments": {},
   "cell_type": "markdown",
   "metadata": {},
   "source": [
    "correct"
   ]
  },
  {
   "cell_type": "code",
   "execution_count": 107,
   "metadata": {},
   "outputs": [],
   "source": [
    "def merge(nums1, m, nums2, n):\n",
    "        \"\"\"\n",
    "        Do not return anything, modify nums1 in-place instead.\n",
    "        \"\"\"\n",
    "        # Start filling from the back of nums1\n",
    "        i, j, k = m - 1, n - 1, m + n - 1\n",
    "\n",
    "        # Merge nums1 and nums2 starting from the end\n",
    "        while i >= 0 and j >= 0:\n",
    "            if nums1[i] > nums2[j]:\n",
    "                nums1[k] = nums1[i]\n",
    "                i -= 1\n",
    "            else:\n",
    "                nums1[k] = nums2[j]\n",
    "                j -= 1\n",
    "            k -= 1\n",
    "\n",
    "        # If there are still elements in nums2, copy them\n",
    "        while j >= 0:\n",
    "            nums1[k] = nums2[j]\n",
    "            k -= 1\n",
    "            j -= 1"
   ]
  },
  {
   "cell_type": "code",
   "execution_count": 108,
   "metadata": {},
   "outputs": [
    {
     "name": "stdout",
     "output_type": "stream",
     "text": [
      "[1, 2, 2, 3, 5, 6]\n"
     ]
    }
   ],
   "source": [
    "nums1 = [1,2,3,0,0,0]\n",
    "m = 3\n",
    "nums2 = [2,5,6]\n",
    "n = 3\n",
    "merge(nums1, m, nums2, n)\n",
    "print(nums1)"
   ]
  },
  {
   "cell_type": "code",
   "execution_count": 109,
   "metadata": {},
   "outputs": [
    {
     "name": "stdout",
     "output_type": "stream",
     "text": [
      "[1]\n"
     ]
    }
   ],
   "source": [
    "nums1 = [1]\n",
    "m = 1\n",
    "nums2 = []\n",
    "n = 0\n",
    "merge(nums1, m, nums2, n)\n",
    "print(nums1)"
   ]
  },
  {
   "attachments": {},
   "cell_type": "markdown",
   "metadata": {},
   "source": [
    "## 27. Remove Element"
   ]
  },
  {
   "cell_type": "markdown",
   "metadata": {},
   "source": [
    "Given an integer array nums and an integer val, remove all occurrences of val in nums in-place. The order of the elements may be changed. Then return the number of elements in nums which are not equal to val.\n",
    "\n",
    "Consider the number of elements in nums which are not equal to val be k, to get accepted, you need to do the following things:\n",
    "\n",
    "Change the array nums such that the first k elements of nums contain the elements which are not equal to val. The remaining elements of nums are not important as well as the size of nums.\n",
    "Return k.\n"
   ]
  },
  {
   "attachments": {},
   "cell_type": "markdown",
   "metadata": {},
   "source": [
    "My attenpt"
   ]
  },
  {
   "cell_type": "code",
   "execution_count": 110,
   "metadata": {},
   "outputs": [],
   "source": [
    "def removeElement(nums, val):\n",
    "        \"\"\"\n",
    "        :type nums: List[int]\n",
    "        :type val: int\n",
    "        :rtype: int\n",
    "        \"\"\"\n",
    "\n",
    "        k = 0\n",
    "        i = 0\n",
    "        while i<len(nums):\n",
    "            if nums[i]==val:\n",
    "                nums.pop(i)\n",
    "                nums.append(None)\n",
    "                k+=1\n",
    "                i-=1\n",
    "            i+=1\n",
    "\n",
    "        print(nums, k)\n",
    "        return k\n",
    "                \n",
    "\n"
   ]
  },
  {
   "attachments": {},
   "cell_type": "markdown",
   "metadata": {},
   "source": [
    "Correct"
   ]
  },
  {
   "cell_type": "code",
   "execution_count": 111,
   "metadata": {},
   "outputs": [],
   "source": [
    "\n",
    "def removeElement(nums, val):\n",
    "\n",
    "    k = 0\n",
    "    for i in range(len(nums)):\n",
    "        if (nums[i] != val):\n",
    "            nums[k] = nums[i]\n",
    "            k += 1\n",
    "    return k"
   ]
  },
  {
   "cell_type": "code",
   "execution_count": 112,
   "metadata": {},
   "outputs": [
    {
     "data": {
      "text/plain": [
       "5"
      ]
     },
     "execution_count": 112,
     "metadata": {},
     "output_type": "execute_result"
    }
   ],
   "source": [
    "# nums = [3,2,2,3]\n",
    "# val = 3\n",
    "\n",
    "nums = [0,1,2,2,3,0,4,2]\n",
    "val = 2\n",
    "removeElement(nums, val)"
   ]
  },
  {
   "attachments": {},
   "cell_type": "markdown",
   "metadata": {},
   "source": [
    "## 26. Remove Duplicates from Sorted Array"
   ]
  },
  {
   "attachments": {},
   "cell_type": "markdown",
   "metadata": {},
   "source": [
    "### My attempt (Correct)"
   ]
  },
  {
   "cell_type": "code",
   "execution_count": 113,
   "metadata": {},
   "outputs": [],
   "source": [
    "def removeDuplicates(nums):\n",
    "        \"\"\"\n",
    "        :type nums: List[int]\n",
    "        :rtype: int\n",
    "        \"\"\"\n",
    "        new_len = len(nums)\n",
    "        i = 0\n",
    "        while i < new_len-1:\n",
    "            if nums[i]==nums[i+1]:\n",
    "                  nums.pop(i)\n",
    "                  new_len -= 1\n",
    "                  i-=1\n",
    "            i+=1\n",
    "        print(nums, new_len)"
   ]
  },
  {
   "attachments": {},
   "cell_type": "markdown",
   "metadata": {},
   "source": [
    "2 pointer solution (faster)"
   ]
  },
  {
   "cell_type": "code",
   "execution_count": 114,
   "metadata": {},
   "outputs": [],
   "source": [
    "def removeDuplicates(nums):\n",
    "        \"\"\"\n",
    "        :type nums: List[int]\n",
    "        :rtype: int\n",
    "        \"\"\"\n",
    "\n",
    "        if len(nums) == 0:\n",
    "            return 0\n",
    "        # Two Pointer Solution\n",
    "        # j is slow runner, i is fast runner\n",
    "        j = 0\n",
    "        for i in range(1, len(nums)):\n",
    "        # If they are unique, change the array and increment both\n",
    "            if nums [i] != nums[j]:\n",
    "                j += 1\n",
    "                nums[j] = nums[i]\n",
    "        # Return the slow runner + 1 for length\n",
    "        return j + 1"
   ]
  },
  {
   "cell_type": "code",
   "execution_count": 115,
   "metadata": {},
   "outputs": [
    {
     "data": {
      "text/plain": [
       "2"
      ]
     },
     "execution_count": 115,
     "metadata": {},
     "output_type": "execute_result"
    }
   ],
   "source": [
    "nums = [1,1,1,2]\n",
    "removeDuplicates(nums)"
   ]
  },
  {
   "attachments": {},
   "cell_type": "markdown",
   "metadata": {},
   "source": [
    "## 169. Majority Element"
   ]
  },
  {
   "attachments": {},
   "cell_type": "markdown",
   "metadata": {},
   "source": [
    "My attempt"
   ]
  },
  {
   "cell_type": "code",
   "execution_count": 116,
   "metadata": {},
   "outputs": [],
   "source": [
    "def majorityElement(nums):\n",
    "        \"\"\"\n",
    "        :type nums: List[int]\n",
    "        :rtype: int\n",
    "        \"\"\"\n",
    "        unique_nums = {}\n",
    "\n",
    "        for i in nums:\n",
    "            if i not in list(unique_nums.keys()):\n",
    "                unique_nums[i] = 1\n",
    "            else:\n",
    "                 unique_nums[i]+=1\n",
    "\n",
    "        majority_el = max(unique_nums, key=unique_nums.get)\n",
    "\n",
    "        print(majority_el)\n",
    "\n",
    " "
   ]
  },
  {
   "cell_type": "markdown",
   "metadata": {},
   "source": [
    "Boyer-Moore Voting Algorithm"
   ]
  },
  {
   "cell_type": "code",
   "execution_count": 117,
   "metadata": {},
   "outputs": [],
   "source": [
    "def majorityElement( nums):\n",
    "    \"\"\"\n",
    "    :type nums: List[int]\n",
    "    :rtype: int\n",
    "    \"\"\"\n",
    "    candidate = None\n",
    "    count = 0\n",
    "\n",
    "    for num in nums:\n",
    "        if count == 0:\n",
    "            candidate = num\n",
    "        count += (1 if num == candidate else -1)\n",
    "\n",
    "    if nums.count(candidate) > len(nums) // 2:\n",
    "        return candidate\n",
    "    else:\n",
    "        print('No majority element')\n",
    "        return None  \n",
    "    return candidate\n"
   ]
  },
  {
   "cell_type": "code",
   "execution_count": 118,
   "metadata": {},
   "outputs": [
    {
     "name": "stdout",
     "output_type": "stream",
     "text": [
      "No majority element\n"
     ]
    }
   ],
   "source": [
    "nums = [3,2,3]\n",
    "nums = [1, 2, 2, 2, 2, 6, 7, 8]\n",
    "\n",
    "majorityElement(nums)"
   ]
  },
  {
   "attachments": {},
   "cell_type": "markdown",
   "metadata": {},
   "source": [
    "## 121. Best time to buy and sell a stock"
   ]
  },
  {
   "attachments": {},
   "cell_type": "markdown",
   "metadata": {},
   "source": [
    "My Attempt"
   ]
  },
  {
   "cell_type": "code",
   "execution_count": 119,
   "metadata": {},
   "outputs": [],
   "source": [
    "def maxProfit(prices):\n",
    "        \"\"\"\n",
    "        :type prices: List[int]\n",
    "        :rtype: int\n",
    "        \"\"\"\n",
    "\n",
    "        # Initialise  min price as first price and max price as last price and initialise profit as difference\n",
    "        min_el = prices[0]\n",
    "        max_el = prices[-1]\n",
    "        max_profit = max_el-min_el\n",
    "\n",
    "        # Initialise slow runner at end of array\n",
    "        j = len(prices)-2\n",
    "        i = 1\n",
    "        print('Initial minimum element:', min_el, 'Initial maximum element:', max_el)  \n",
    "        while i<=j:\n",
    "            print('START ITERATION')\n",
    "            print('i=', i, 'j=', j)\n",
    "            print('current element i: ', prices[i], 'current element j: ', prices[j])\n",
    "            if prices[i]<min_el:\n",
    "                 min_el= prices[i]\n",
    "               #   i+=1\n",
    "            if prices[j]>max_el:\n",
    "                 max_el = prices[j]\n",
    "               #   j-=1\n",
    "            print('min_el: ', min_el, 'max_el: ', max_el)\n",
    "            i+=1\n",
    "            j-=1\n",
    "            max_profit = max_el-min_el\n",
    "            print('max profit: ', max_profit)\n",
    "            if abs(i-j)==1 and prices[j-1]-min_el>max_profit:\n",
    "                 print('value: ', prices[j-1]-min_el)\n",
    "                 max_el = prices[j-1]\n",
    "                 \n",
    "            print('END ITERATION')\n",
    "            print('i=', i, 'j=', j)\n",
    "        \n",
    "        print('Final minimum element:', min_el, 'Final maximum element:', max_el)  \n",
    "        max_profit = max_el-min_el\n",
    "        if max_profit >=0:\n",
    "            return max_profit\n",
    "        else:\n",
    "             return 0\n"
   ]
  },
  {
   "attachments": {},
   "cell_type": "markdown",
   "metadata": {},
   "source": [
    "Correct solution"
   ]
  },
  {
   "cell_type": "code",
   "execution_count": 120,
   "metadata": {},
   "outputs": [],
   "source": [
    "def maxProfit(prices):\n",
    "\n",
    "    buy, sell, max_profit = 0, 1, 0\n",
    "\n",
    "    while sell < len(prices):\n",
    "        if prices[buy] < prices[sell]:\n",
    "            profit = prices[sell] - prices[buy]\n",
    "            max_profit = max(max_profit, profit)\n",
    "        else:\n",
    "            buy = sell\n",
    "        sell += 1\n",
    "    return max_profit"
   ]
  },
  {
   "cell_type": "code",
   "execution_count": 121,
   "metadata": {},
   "outputs": [
    {
     "data": {
      "text/plain": [
       "5"
      ]
     },
     "execution_count": 121,
     "metadata": {},
     "output_type": "execute_result"
    }
   ],
   "source": [
    "prices = [7,1,5,3,6,4]\n",
    "# prices = [7,6,4,3,1]\n",
    "# prices =[1,4,2]\n",
    "# prices =[3,2,6,5,0,3]\n",
    "maxProfit(prices)"
   ]
  },
  {
   "attachments": {},
   "cell_type": "markdown",
   "metadata": {},
   "source": [
    "## 13. Roman to Integer"
   ]
  },
  {
   "cell_type": "code",
   "execution_count": 122,
   "metadata": {},
   "outputs": [],
   "source": [
    "def romanToInt(s):\n",
    "        r_to_i_dict = {'I':1, 'V':5,'X':10,'L':50,'C':100,'D':500,'M':1000}\n",
    "        s_list = list(s)\n",
    "        num = 0\n",
    "        for i in range(0, len(s_list)-1):\n",
    "            if r_to_i_dict[s[i]]>=r_to_i_dict[s[i+1]]:\n",
    "                num+=r_to_i_dict[s[i]]\n",
    "            else:\n",
    "                num -=r_to_i_dict[s[i]]\n",
    "            print(num)\n",
    "        print(s[-1])\n",
    "        num = num+r_to_i_dict[s[-1]]\n",
    "        print(num)\n"
   ]
  },
  {
   "cell_type": "code",
   "execution_count": 123,
   "metadata": {},
   "outputs": [
    {
     "name": "stdout",
     "output_type": "stream",
     "text": [
      "1000\n",
      "900\n",
      "1900\n",
      "1890\n",
      "1990\n",
      "1989\n",
      "V\n",
      "1994\n"
     ]
    }
   ],
   "source": [
    "s = \"III\"\n",
    "s = \"LVIII\"\n",
    "s = \"MCMXCIV\"\n",
    "\n",
    "romanToInt(s)"
   ]
  },
  {
   "attachments": {},
   "cell_type": "markdown",
   "metadata": {},
   "source": [
    "## 58. Length of Last Word"
   ]
  },
  {
   "cell_type": "code",
   "execution_count": 124,
   "metadata": {},
   "outputs": [],
   "source": [
    "def lengthofLastWord(s):\n",
    "\n",
    "    count = 0\n",
    "\n",
    "    i = len(s)-1\n",
    "    print(s[0])\n",
    "    # Find first entry at back that is not whitespace\n",
    "    while s[i]== ' ':\n",
    "        i-=1\n",
    "\n",
    "    while s[i]!= ' ' and i >=0:\n",
    "        count+=1\n",
    "        i-=1\n",
    "    return count"
   ]
  },
  {
   "cell_type": "code",
   "execution_count": 125,
   "metadata": {},
   "outputs": [
    {
     "name": "stdout",
     "output_type": "stream",
     "text": [
      "a\n"
     ]
    },
    {
     "data": {
      "text/plain": [
       "1"
      ]
     },
     "execution_count": 125,
     "metadata": {},
     "output_type": "execute_result"
    }
   ],
   "source": [
    "s = 'Hello World'\n",
    "s = \"   fly me   to   the moon  \"\n",
    "s= 'a'\n",
    "lengthofLastWord(s)"
   ]
  },
  {
   "attachments": {},
   "cell_type": "markdown",
   "metadata": {},
   "source": [
    "## 14. Longest Common Prefix"
   ]
  },
  {
   "cell_type": "code",
   "execution_count": 1,
   "metadata": {},
   "outputs": [],
   "source": [
    "def longestCommonPrefix(strs):\n",
    "    i = 1\n",
    "    prefixes = {}\n",
    "    while len(strs)>1:\n",
    "        prefix_list = []\n",
    "        for el in strs:\n",
    "            prefix_list.append(el[0:i])\n",
    "            prefixes[i] = prefix_list\n",
    "        print(set(prefixes))\n",
    "        print(len(set(prefixes)), i)\n",
    "        if len(set(prefix_list)) !=1 and i <= 1:\n",
    "            return ''\n",
    "\n",
    "        if len(set(prefix_list)) !=1:\n",
    "            print(prefixes)\n",
    "            return prefixes[i-1][0]\n",
    "        i+=1\n",
    "\n",
    "    return strs[0]"
   ]
  },
  {
   "attachments": {},
   "cell_type": "markdown",
   "metadata": {},
   "source": [
    "### Correct Solution\n",
    "... Uses sorting"
   ]
  },
  {
   "cell_type": "code",
   "execution_count": 128,
   "metadata": {},
   "outputs": [],
   "source": [
    "def longestCommonPrefix(strs):\n",
    "    if not strs:\n",
    "        return \"\"\n",
    "\n",
    "    # Sort the list of strings\n",
    "    strs.sort()\n",
    "\n",
    "    # Get the first and last strings after sorting\n",
    "    first = strs[0]\n",
    "    last = strs[-1]\n",
    "    min_length = min(len(first), len(last))\n",
    "\n",
    "    i = 0\n",
    "    # Find the common prefix between the first\n",
    "    # and last strings\n",
    "    while i < min_length and first[i] == last[i]:\n",
    "        i += 1\n",
    "\n",
    "    # Check if there's no common prefix\n",
    "    if i == 0:\n",
    "        return \"\"\n",
    "\n",
    "    # Return the common prefix\n",
    "    return first[:i]"
   ]
  },
  {
   "cell_type": "code",
   "execution_count": 129,
   "metadata": {},
   "outputs": [
    {
     "data": {
      "text/plain": [
       "'fl'"
      ]
     },
     "execution_count": 129,
     "metadata": {},
     "output_type": "execute_result"
    }
   ],
   "source": [
    "strs = [\"flower\",\"flow\",\"flight\"]\n",
    "# strs = [\"dog\",\"racecar\",\"car\"]\n",
    "# strs = ['']\n",
    "# strs = ['a']\n",
    "longestCommonPrefix(strs)"
   ]
  },
  {
   "attachments": {},
   "cell_type": "markdown",
   "metadata": {},
   "source": [
    "## 28. Find the Index of the First Occurrence in a String"
   ]
  },
  {
   "cell_type": "code",
   "execution_count": 100,
   "metadata": {},
   "outputs": [],
   "source": [
    "def strStr(haystack, needle):\n",
    "    print(haystack.find(needle))"
   ]
  },
  {
   "cell_type": "code",
   "execution_count": null,
   "metadata": {},
   "outputs": [
    {
     "name": "stdout",
     "output_type": "stream",
     "text": [
      "0\n"
     ]
    }
   ],
   "source": [
    "\n",
    "haystack = \"sadbutsad\"\n",
    "needle = \"sad\"\n",
    "\n",
    "strStr(haystack, needle)"
   ]
  },
  {
   "attachments": {},
   "cell_type": "markdown",
   "metadata": {},
   "source": [
    "# 80. Remove Duplicates from Sorted Array 2"
   ]
  },
  {
   "cell_type": "code",
   "execution_count": 130,
   "metadata": {},
   "outputs": [],
   "source": [
    "def removeDuplicates(nums):\n",
    "    \n",
    "\n",
    "    if len(nums) <= 2:\n",
    "        return len(nums)\n",
    "    \n",
    "    # `i` is the index of where to place the next element in the resulting array\n",
    "    i = 2\n",
    "    \n",
    "    # Start from the third element and process each element\n",
    "    for j in range(2, len(nums)):\n",
    "        # If the current element is different from the element at `i-2`,\n",
    "        # it means we can keep this element in the result\n",
    "        if nums[j] != nums[i - 2]:\n",
    "            nums[i] = nums[j]\n",
    "            i += 1\n",
    "    \n",
    "    # Return the length of the modified array\n",
    "    return i, nums[:i]"
   ]
  },
  {
   "cell_type": "code",
   "execution_count": 131,
   "metadata": {},
   "outputs": [
    {
     "data": {
      "text/plain": [
       "(7, [0, 0, 1, 1, 2, 3, 3])"
      ]
     },
     "execution_count": 131,
     "metadata": {},
     "output_type": "execute_result"
    }
   ],
   "source": [
    "nums = [1,1,1,2,2,3]\n",
    "# nums = [1, 1, 2]\n",
    "nums = [0,0,1,1,1,1,2,3,3]\n",
    "\n",
    "removeDuplicates(nums)"
   ]
  },
  {
   "cell_type": "markdown",
   "metadata": {},
   "source": []
  },
  {
   "attachments": {},
   "cell_type": "markdown",
   "metadata": {},
   "source": [
    "# 189. Rotate Array"
   ]
  },
  {
   "attachments": {},
   "cell_type": "markdown",
   "metadata": {},
   "source": [
    "Simple solution (extra memory)"
   ]
  },
  {
   "cell_type": "code",
   "execution_count": 107,
   "metadata": {},
   "outputs": [],
   "source": [
    "\n",
    "def rotate(nums, k):\n",
    "\n",
    "    k = k % len(nums)\n",
    "    nums = nums[-k:] + nums[:-k]\n",
    "\n",
    "    print(nums)"
   ]
  },
  {
   "cell_type": "code",
   "execution_count": 108,
   "metadata": {},
   "outputs": [
    {
     "name": "stdout",
     "output_type": "stream",
     "text": [
      "[5, 6, 7, 1, 2, 3, 4]\n"
     ]
    }
   ],
   "source": [
    "nums = [1, 2, 3, 4]\n",
    "k = 2\n",
    "nums =[1,2,3,4,5,6,7]\n",
    "k=3\n",
    "rotate(nums, k)"
   ]
  },
  {
   "cell_type": "code",
   "execution_count": 106,
   "metadata": {},
   "outputs": [
    {
     "data": {
      "text/plain": [
       "[5, 6, 7, 1, 2, 3, 4]"
      ]
     },
     "execution_count": 106,
     "metadata": {},
     "output_type": "execute_result"
    }
   ],
   "source": [
    "nums[:]"
   ]
  },
  {
   "cell_type": "code",
   "execution_count": 13,
   "metadata": {},
   "outputs": [],
   "source": [
    "from collections import defaultdict\n",
    "from typing import List\n",
    "def groupAnagrams(strs: List[str]) -> List[List[str]]:\n",
    "    \n",
    "    hashmap = defaultdict(list)\n",
    "\n",
    "    print(hashmap)\n",
    "    for word in strs:\n",
    "        count = 0\n",
    "        for s in word:\n",
    "            count += ord(s)-ord('a')\n",
    "        hashmap[count].append(word)\n",
    "    return list(hashmap.values())\n",
    "            "
   ]
  },
  {
   "cell_type": "code",
   "execution_count": 14,
   "metadata": {},
   "outputs": [
    {
     "name": "stdout",
     "output_type": "stream",
     "text": [
      "defaultdict(<class 'list'>, {})\n"
     ]
    },
    {
     "data": {
      "text/plain": [
       "[['act', 'cat'], ['pots', 'tops', 'stop'], ['hat']]"
      ]
     },
     "execution_count": 14,
     "metadata": {},
     "output_type": "execute_result"
    }
   ],
   "source": [
    "strs = [\"act\",\"pots\",\"tops\",\"cat\",\"stop\",\"hat\"]\n",
    "groupAnagrams(strs)"
   ]
  },
  {
   "attachments": {},
   "cell_type": "markdown",
   "metadata": {},
   "source": [
    "#"
   ]
  },
  {
   "attachments": {},
   "cell_type": "markdown",
   "metadata": {},
   "source": [
    "def lengt"
   ]
  }
 ],
 "metadata": {
  "kernelspec": {
   "display_name": "Python 3",
   "language": "python",
   "name": "python3"
  },
  "language_info": {
   "codemirror_mode": {
    "name": "ipython",
    "version": 3
   },
   "file_extension": ".py",
   "mimetype": "text/x-python",
   "name": "python",
   "nbconvert_exporter": "python",
   "pygments_lexer": "ipython3",
   "version": "3.10.7"
  },
  "orig_nbformat": 4
 },
 "nbformat": 4,
 "nbformat_minor": 2
}
