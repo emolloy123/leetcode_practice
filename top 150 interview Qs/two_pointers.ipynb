{
 "cells": [
  {
   "attachments": {},
   "cell_type": "markdown",
   "metadata": {},
   "source": [
    "# Easy"
   ]
  },
  {
   "attachments": {},
   "cell_type": "markdown",
   "metadata": {},
   "source": [
    "## 125. Valid Palindrome\n"
   ]
  },
  {
   "cell_type": "code",
   "execution_count": 46,
   "metadata": {},
   "outputs": [],
   "source": [
    "import re\n",
    "def isPalindrome(s: str) -> bool:\n",
    "    # remove white space from string\n",
    "    s = re.sub(r'[^a-zA-Z0-9]', '', s.replace(' ', '').lower())\n",
    "\n",
    "    print(s)\n",
    "    # Initialise beginning and end pointers\n",
    "    i = 0\n",
    "    j = len(s)-1\n",
    "\n",
    "    while i<j:\n",
    "        print(s[i], s[j])\n",
    "        if (s[i]!=s[j]):\n",
    "            print(type(s[i]), type(s[j]))\n",
    "            return False\n",
    "        i+=1\n",
    "        j-=1\n",
    "    return True"
   ]
  },
  {
   "cell_type": "code",
   "execution_count": 47,
   "metadata": {},
   "outputs": [
    {
     "name": "stdout",
     "output_type": "stream",
     "text": [
      "hi\n"
     ]
    }
   ],
   "source": [
    "if 'a'=='a':\n",
    "    print('hi')"
   ]
  },
  {
   "cell_type": "code",
   "execution_count": 48,
   "metadata": {},
   "outputs": [
    {
     "name": "stdout",
     "output_type": "stream",
     "text": [
      "amanaplanacanalpanama\n",
      "a a\n",
      "m m\n",
      "a a\n",
      "n n\n",
      "a a\n",
      "p p\n",
      "l l\n",
      "a a\n",
      "n n\n",
      "a a\n"
     ]
    },
    {
     "data": {
      "text/plain": [
       "True"
      ]
     },
     "execution_count": 48,
     "metadata": {},
     "output_type": "execute_result"
    }
   ],
   "source": [
    "s = \"A man, a plan, a canal: Panama\"\n",
    "isPalindrome(s)"
   ]
  },
  {
   "attachments": {},
   "cell_type": "markdown",
   "metadata": {},
   "source": [
    "# 392. Is Subsequence"
   ]
  },
  {
   "cell_type": "code",
   "execution_count": 61,
   "metadata": {},
   "outputs": [],
   "source": [
    "def isSubsequence(s: str, t: str) -> bool:\n",
    "    i = 0 #point to s\n",
    "\n",
    "    for j in range(0, len(t)):\n",
    "        # if character in s is in t then move to see if next character in s is also in t\n",
    "        try:\n",
    "            if s[i]==t[j]:\n",
    "                print(i, s[i])\n",
    "                i+=1\n",
    "        except IndexError:\n",
    "            return False\n",
    "        j+=1\n",
    "    if i == len(s):\n",
    "        return True\n",
    "    else: \n",
    "        return False\n"
   ]
  },
  {
   "cell_type": "code",
   "execution_count": 62,
   "metadata": {},
   "outputs": [
    {
     "data": {
      "text/plain": [
       "False"
      ]
     },
     "execution_count": 62,
     "metadata": {},
     "output_type": "execute_result"
    }
   ],
   "source": [
    "s = \"abc\"\n",
    "s = ''\n",
    "t = \"ahbgdc\"\n",
    "\n",
    "isSubsequence(s, t)"
   ]
  },
  {
   "cell_type": "markdown",
   "metadata": {},
   "source": []
  }
 ],
 "metadata": {
  "kernelspec": {
   "display_name": "Python 3",
   "language": "python",
   "name": "python3"
  },
  "language_info": {
   "codemirror_mode": {
    "name": "ipython",
    "version": 3
   },
   "file_extension": ".py",
   "mimetype": "text/x-python",
   "name": "python",
   "nbconvert_exporter": "python",
   "pygments_lexer": "ipython3",
   "version": "3.10.7"
  },
  "orig_nbformat": 4
 },
 "nbformat": 4,
 "nbformat_minor": 2
}
