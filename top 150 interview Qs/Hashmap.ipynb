{
 "cells": [
  {
   "attachments": {},
   "cell_type": "markdown",
   "metadata": {},
   "source": [
    "# 383. Ransom Note"
   ]
  },
  {
   "attachments": {},
   "cell_type": "markdown",
   "metadata": {},
   "source": [
    "My solution"
   ]
  },
  {
   "cell_type": "code",
   "execution_count": 31,
   "metadata": {},
   "outputs": [],
   "source": [
    "def canConstruct(string1: str, string2: str) -> bool:\n",
    "    for i in string1:\n",
    "        print(i)\n",
    "        if i not in string2:\n",
    "            return False\n",
    "        else:\n",
    "            string2 = string2.replace(i, '', 1)\n",
    "        # print(string2)\n",
    "    return True\n"
   ]
  },
  {
   "attachments": {},
   "cell_type": "markdown",
   "metadata": {},
   "source": [
    "Hashmap solution"
   ]
  },
  {
   "cell_type": "code",
   "execution_count": 32,
   "metadata": {},
   "outputs": [],
   "source": [
    "from collections import Counter\n",
    "\n",
    "def canConstruct(ransom_note: str, magazine: str) -> bool:\n",
    "    char_count = Counter(magazine)\n",
    "      \n",
    "        # Check each character in the ransom note\n",
    "    for char in ransom_note:\n",
    "        # Decrement the count for this character in the counter\n",
    "        char_count[char] -= 1\n",
    "        \n",
    "        # If count goes below zero, we cannot construct the note from the magazine\n",
    "        if char_count[char] < 0:\n",
    "            return False\n",
    "    \n",
    "    # If we haven't returned False, we can construct the ransom note\n",
    "    return True\n"
   ]
  },
  {
   "cell_type": "code",
   "execution_count": 33,
   "metadata": {},
   "outputs": [
    {
     "data": {
      "text/plain": [
       "True"
      ]
     },
     "execution_count": 33,
     "metadata": {},
     "output_type": "execute_result"
    }
   ],
   "source": [
    "string1 = \"aa\"\n",
    "string2 = \"aab\"\n",
    "canConstruct(string1, string2)"
   ]
  },
  {
   "attachments": {},
   "cell_type": "markdown",
   "metadata": {},
   "source": [
    "# 205. Isomorphic Strings"
   ]
  },
  {
   "attachments": {},
   "cell_type": "markdown",
   "metadata": {},
   "source": [
    "My solution"
   ]
  },
  {
   "cell_type": "code",
   "execution_count": 27,
   "metadata": {},
   "outputs": [],
   "source": [
    "def isIsomorphic(s, t):\n",
    "    if len(set(s))!=len(set(t)):\n",
    "        return False\n",
    "    s_dict = {}\n",
    "\n",
    "    for i,j in zip(s,t):\n",
    "        print(i, j, s_dict)\n",
    "        if i in s_dict.keys() and j!=s_dict[i]:\n",
    "            return False\n",
    "        s_dict[i] = j\n",
    "\n",
    "    return True\n",
    "        \n"
   ]
  },
  {
   "attachments": {},
   "cell_type": "markdown",
   "metadata": {},
   "source": [
    "Alternative solution"
   ]
  },
  {
   "cell_type": "code",
   "execution_count": null,
   "metadata": {},
   "outputs": [],
   "source": []
  },
  {
   "cell_type": "code",
   "execution_count": 26,
   "metadata": {},
   "outputs": [
    {
     "data": {
      "text/plain": [
       "False"
      ]
     },
     "execution_count": 26,
     "metadata": {},
     "output_type": "execute_result"
    }
   ],
   "source": [
    "s = \"egg\"\n",
    "t = \"add\"\n",
    "# s = \"foo\" \n",
    "# t = \"bar\"\n",
    "s = \"paper\"\n",
    "t = \"title\"\n",
    "s = \"badc\"\n",
    "t = \"baba\"\n",
    "isIsomorphic(s, t)"
   ]
  },
  {
   "attachments": {},
   "cell_type": "markdown",
   "metadata": {},
   "source": [
    "# 290. Word Pattern"
   ]
  },
  {
   "cell_type": "code",
   "execution_count": 43,
   "metadata": {},
   "outputs": [],
   "source": [
    "def wordPattern(s, t):\n",
    "    \n",
    "    words = t.split()\n",
    "    \n",
    "    if len(set(s)) != len(set(words)) or len(s)!=len(words): #if num characters in s not equal to num unique words in t, return False immediately\n",
    "        return False\n",
    "    \n",
    "    s_dict = {}\n",
    "\n",
    "    for i,j in zip(s,words):\n",
    "        print(i, j, s_dict)\n",
    "        if i in s_dict.keys() and j!=s_dict[i]:\n",
    "\n",
    "            return False\n",
    "        \n",
    "        s_dict[i] = j\n",
    "\n",
    "    return True"
   ]
  },
  {
   "cell_type": "code",
   "execution_count": 44,
   "metadata": {},
   "outputs": [
    {
     "data": {
      "text/plain": [
       "False"
      ]
     },
     "execution_count": 44,
     "metadata": {},
     "output_type": "execute_result"
    }
   ],
   "source": [
    "s = 'abba'\n",
    "t = \"dog cat cat dog\"\n",
    "t = \"dog cat cat fish\"\n",
    "s = \"aaaa\"\n",
    "t = \"dog cat cat dog\"\n",
    "s = 'aba'\n",
    "t = \"cat cat cat dog\"\n",
    "wordPattern(s, t)"
   ]
  },
  {
   "attachments": {},
   "cell_type": "markdown",
   "metadata": {},
   "source": [
    "# 242. Valid Anagram"
   ]
  },
  {
   "attachments": {},
   "cell_type": "markdown",
   "metadata": {},
   "source": [
    "my solution\n"
   ]
  },
  {
   "cell_type": "code",
   "execution_count": 16,
   "metadata": {},
   "outputs": [],
   "source": [
    "def isAnagram(s, t):\n",
    "\n",
    "    if len(s)!=len(t):\n",
    "        return False\n",
    "    s_dict = {}\n",
    "    t_dict = {}\n",
    "\n",
    "    for i in range(len(s)):\n",
    "        if s[i] not in s_dict.keys():\n",
    "            s_dict[s[i]]=1\n",
    "        else:\n",
    "            s_dict[s[i]]+=1\n",
    "\n",
    "        if t[i] not in t_dict.keys():\n",
    "            t_dict[t[i]]=1\n",
    "        else:\n",
    "            t_dict[t[i]]+=1\n",
    "    \n",
    "    for k, v in s_dict.items():\n",
    "        try:\n",
    "            if t_dict[k]!=v:\n",
    "                return False\n",
    "        except KeyError:\n",
    "            return False\n",
    "    print(s_dict, t_dict)\n",
    "    return True"
   ]
  },
  {
   "attachments": {},
   "cell_type": "markdown",
   "metadata": {},
   "source": [
    "Online solution"
   ]
  },
  {
   "cell_type": "code",
   "execution_count": 17,
   "metadata": {},
   "outputs": [],
   "source": [
    "from collections import Counter\n",
    "def isAnagram(s, t):\n",
    "\n",
    "        s_cnt=Counter(s)\n",
    "        t_cnt=Counter(t)\n",
    "        return s_cnt==t_cnt"
   ]
  },
  {
   "cell_type": "code",
   "execution_count": 18,
   "metadata": {},
   "outputs": [
    {
     "data": {
      "text/plain": [
       "False"
      ]
     },
     "execution_count": 18,
     "metadata": {},
     "output_type": "execute_result"
    }
   ],
   "source": [
    "s = \"anagram\"\n",
    "t = \"nagaram\"\n",
    "s = 'a'\n",
    "t = 'ab'\n",
    "isAnagram(s,t)"
   ]
  },
  {
   "attachments": {},
   "cell_type": "markdown",
   "metadata": {},
   "source": [
    "# 1. Two Sum"
   ]
  },
  {
   "attachments": {},
   "cell_type": "markdown",
   "metadata": {},
   "source": [
    "O (n^2)"
   ]
  },
  {
   "cell_type": "code",
   "execution_count": 77,
   "metadata": {},
   "outputs": [],
   "source": [
    "def twoSum(nums, target):\n",
    "    \n",
    "   for i in range(len(nums)):\n",
    "      for j in range(len(nums)):\n",
    "         if i != j and nums[i]+nums[j]==target:\n",
    "            return i, j\n",
    "        "
   ]
  },
  {
   "attachments": {},
   "cell_type": "markdown",
   "metadata": {},
   "source": [
    "Correct solution"
   ]
  },
  {
   "cell_type": "code",
   "execution_count": 79,
   "metadata": {},
   "outputs": [],
   "source": [
    "def two_sum(nums, target):\n",
    "    num_to_index = {}  # Create a dictionary to map numbers to their indices\n",
    "    for index, num in enumerate(nums):\n",
    "        complement = target - num  # Calculate the complement\n",
    "        if complement in num_to_index:  # Check if the complement exists in the dictionary\n",
    "            return [num_to_index[complement], index]  # Return the indices of the two numbers\n",
    "        num_to_index[num] = index  # Store the index of the current number\n",
    "    return []  # If no solution is found (shouldn't happen per problem statement)\n"
   ]
  },
  {
   "attachments": {},
   "cell_type": "markdown",
   "metadata": {},
   "source": [
    "Steps\n",
    "- enumerate list\n",
    "- calculate complement (target-current element) for each element\n",
    "- if this complement is in the dictionary the complement is an element of the list and it's sum with the current element is the target\n",
    "- therefore return the indices of the complement and the current element"
   ]
  },
  {
   "cell_type": "code",
   "execution_count": 81,
   "metadata": {},
   "outputs": [
    {
     "data": {
      "text/plain": [
       "(0, 2)"
      ]
     },
     "execution_count": 81,
     "metadata": {},
     "output_type": "execute_result"
    }
   ],
   "source": [
    "nums = [7,2,11,15]\n",
    "target = 9\n",
    "nums = [3,2,4] \n",
    "target = 6\n",
    "nums = [3,3]\n",
    "target = 6\n",
    "nums = [3,2,3]\n",
    "\n",
    "twoSum(nums, target)"
   ]
  },
  {
   "attachments": {},
   "cell_type": "markdown",
   "metadata": {},
   "source": [
    "# 202. Happy Number"
   ]
  },
  {
   "attachments": {},
   "cell_type": "markdown",
   "metadata": {},
   "source": [
    "My solution"
   ]
  },
  {
   "cell_type": "code",
   "execution_count": 106,
   "metadata": {},
   "outputs": [],
   "source": [
    "import numpy as np\n",
    "def sum_square_digits(digits):  \n",
    "    '''Gets sum of squares of digits'''\n",
    "\n",
    "    return np.sum(np.square(digits))\n",
    "\n",
    "def int_to_digit(n):\n",
    "    '''Gets digits of a numpy as elements in np array'''\n",
    "    return np.array([int(digit) for digit in str(abs(n))])\n",
    "\n",
    "\n",
    "def isHappy(n):\n",
    "    n_set = set()\n",
    "    digits = int_to_digit(n)\n",
    "    \n",
    "    sum_square = sum_square_digits(digits)\n",
    "    \n",
    "    while sum_square!=1:\n",
    "        if sum_square not in n_set:\n",
    "            n_set.add(sum_square)\n",
    "        else:\n",
    "            return False\n",
    "        digits = int_to_digit(sum_square)\n",
    "        sum_square = sum_square_digits(digits)\n",
    "        print(sum_square)\n",
    "\n",
    "    return True"
   ]
  },
  {
   "cell_type": "code",
   "execution_count": 107,
   "metadata": {},
   "outputs": [
    {
     "name": "stdout",
     "output_type": "stream",
     "text": [
      "16\n",
      "37\n",
      "58\n",
      "89\n",
      "145\n",
      "42\n",
      "20\n",
      "4\n"
     ]
    },
    {
     "data": {
      "text/plain": [
       "False"
      ]
     },
     "execution_count": 107,
     "metadata": {},
     "output_type": "execute_result"
    }
   ],
   "source": [
    "n = 2\n",
    "isHappy(n)"
   ]
  },
  {
   "attachments": {},
   "cell_type": "markdown",
   "metadata": {},
   "source": [
    "# 21. Contains Duplicate 2"
   ]
  },
  {
   "attachments": {},
   "cell_type": "markdown",
   "metadata": {},
   "source": [
    "My solution (almost correct)"
   ]
  },
  {
   "cell_type": "code",
   "execution_count": 54,
   "metadata": {},
   "outputs": [],
   "source": [
    "def containsNearbyDuplicate(nums, k):\n",
    "\n",
    "    d = {}\n",
    "    for i in range(len(nums)):\n",
    "        # if the current value hasn't been seen before add it to the dictionary\n",
    "        if nums[i] not in list(d.keys()):\n",
    "            d[nums[i]] = i\n",
    "        # else the value has been seen before\n",
    "        else:\n",
    "            dist = abs(i-d[nums[i]])\n",
    "            if dist <=k:\n",
    "                return True \n",
    "            else:\n",
    "                d[nums[i]] = i\n",
    "    \n",
    "    return False\n",
    "    \n",
    "        \n"
   ]
  },
  {
   "attachments": {},
   "cell_type": "markdown",
   "metadata": {},
   "source": [
    "Correct solution"
   ]
  },
  {
   "cell_type": "code",
   "execution_count": 61,
   "metadata": {},
   "outputs": [],
   "source": [
    "def containsNearbyDuplicate(nums, k):\n",
    "\n",
    "    index_map = {}\n",
    "        \n",
    "    # Enumerate over the list to have both index and value\n",
    "    for index, value in enumerate(nums):\n",
    "        # If the value is in index_map, and the current index minus the \n",
    "        # stored index is less than or equal to k, a nearby duplicate exists\n",
    "        if value in index_map and index - index_map[value] <= k:\n",
    "            return True\n",
    "        # Update the index value in the index_map for each value\n",
    "        # It ensures that if the same value comes up again, the index_map stores\n",
    "        # the latest index, which is useful for distance calculation\n",
    "        index_map[value] = index\n",
    "\n",
    "    # Return False if no nearby duplicates found within the given k distance\n",
    "    return False\n"
   ]
  },
  {
   "cell_type": "code",
   "execution_count": 64,
   "metadata": {},
   "outputs": [
    {
     "data": {
      "text/plain": [
       "True"
      ]
     },
     "execution_count": 64,
     "metadata": {},
     "output_type": "execute_result"
    }
   ],
   "source": [
    "# nums = [1,2,3,1]\n",
    "# k = 3\n",
    "nums = [1,0,1,1]\n",
    "k = 1\n",
    "# nums = [1,2,3,1,2,3]\n",
    "# k = 2\n",
    "containsNearbyDuplicate(nums, k)"
   ]
  },
  {
   "attachments": {},
   "cell_type": "markdown",
   "metadata": {},
   "source": [
    "a"
   ]
  }
 ],
 "metadata": {
  "kernelspec": {
   "display_name": "Python 3",
   "language": "python",
   "name": "python3"
  },
  "language_info": {
   "codemirror_mode": {
    "name": "ipython",
    "version": 3
   },
   "file_extension": ".py",
   "mimetype": "text/x-python",
   "name": "python",
   "nbconvert_exporter": "python",
   "pygments_lexer": "ipython3",
   "version": "3.10.7"
  },
  "orig_nbformat": 4
 },
 "nbformat": 4,
 "nbformat_minor": 2
}
