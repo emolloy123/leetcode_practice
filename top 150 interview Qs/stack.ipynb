{
 "cells": [
  {
   "attachments": {},
   "cell_type": "markdown",
   "metadata": {},
   "source": [
    "# 20. Valid Parentheses"
   ]
  },
  {
   "attachments": {},
   "cell_type": "markdown",
   "metadata": {},
   "source": [
    "my solution"
   ]
  },
  {
   "cell_type": "code",
   "execution_count": 37,
   "metadata": {},
   "outputs": [],
   "source": [
    "def isValid(s):\n",
    "\n",
    "    if len(s)<=1:\n",
    "            return False\n",
    "    start = ['(', '[', '{']\n",
    "\n",
    "    end = [')', ']', '}']\n",
    "\n",
    "    brackets ={')':'(', ']': '[', '}': '{'}\n",
    "    \n",
    "    record = []\n",
    "    for el in s:\n",
    "        if el in start:\n",
    "            record.append(el)\n",
    "            continue\n",
    "        if el in end and brackets[el] not in record:\n",
    "            return False\n",
    "        if el in end and record[-1]==brackets[el]:\n",
    "            record.pop()\n",
    "        else:\n",
    "            return False\n",
    "    if len(record)==0:       \n",
    "        return True\n",
    "    else:\n",
    "        return False\n",
    "\n",
    "\n"
   ]
  },
  {
   "attachments": {},
   "cell_type": "markdown",
   "metadata": {},
   "source": [
    "cleaner (online) solution"
   ]
  },
  {
   "cell_type": "code",
   "execution_count": 39,
   "metadata": {},
   "outputs": [],
   "source": [
    "def isValid(s) -> bool:\n",
    "    stack = []\n",
    "    map = {\")\":\"(\", \"}\":\"{\", \"]\":\"[\"}\n",
    "    for char in s:\n",
    "        if char in map.values():\n",
    "            stack.append(char)\n",
    "        elif char in map.keys():\n",
    "            if not stack or map[char] != stack.pop():\n",
    "                return False\n",
    "    return not stack"
   ]
  },
  {
   "cell_type": "code",
   "execution_count": 40,
   "metadata": {},
   "outputs": [
    {
     "data": {
      "text/plain": [
       "True"
      ]
     },
     "execution_count": 40,
     "metadata": {},
     "output_type": "execute_result"
    }
   ],
   "source": [
    "s = \"()[]{}\"\n",
    "# s = \"(]\"\n",
    "# s = \"){\"\n",
    "isValid(s)"
   ]
  },
  {
   "attachments": {},
   "cell_type": "markdown",
   "metadata": {},
   "source": []
  }
 ],
 "metadata": {
  "kernelspec": {
   "display_name": "Python 3",
   "language": "python",
   "name": "python3"
  },
  "language_info": {
   "codemirror_mode": {
    "name": "ipython",
    "version": 3
   },
   "file_extension": ".py",
   "mimetype": "text/x-python",
   "name": "python",
   "nbconvert_exporter": "python",
   "pygments_lexer": "ipython3",
   "version": "3.10.7"
  },
  "orig_nbformat": 4
 },
 "nbformat": 4,
 "nbformat_minor": 2
}
