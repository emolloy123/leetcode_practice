{
 "cells": [
  {
   "attachments": {},
   "cell_type": "markdown",
   "metadata": {},
   "source": [
    "# 228. Summary Ranges"
   ]
  },
  {
   "attachments": {},
   "cell_type": "markdown",
   "metadata": {},
   "source": [
    "My Solution"
   ]
  },
  {
   "cell_type": "code",
   "execution_count": 120,
   "metadata": {},
   "outputs": [],
   "source": [
    "def summaryRanges(nums):\n",
    "    if len(nums)==0 :\n",
    "            return nums\n",
    "\n",
    "    int_list = []\n",
    "\n",
    "    if len(nums)==1 :\n",
    "        int_list.append(f'{nums[0]}')\n",
    "        return int_list\n",
    "    j = 0\n",
    "    int_list = []\n",
    "    j = 0\n",
    "    for i in range(1, len(nums)):\n",
    "\n",
    "        if nums[i]-1!=nums[i-1]:\n",
    "            if nums[j]!= nums[i-1]:\n",
    "                int_list.append(f'{nums[j]}->{nums[i-1]}')  \n",
    "            else:\n",
    "                int_list.append(f'{nums[j]}')\n",
    "            print(int_list, i)\n",
    "            j=i\n",
    "\n",
    "    if nums[j]!= nums[i]:\n",
    "        int_list.append(f'{nums[j]}->{nums[i]}')\n",
    "    else:\n",
    "        int_list.append(f'{nums[i]}')\n",
    "    return int_list"
   ]
  },
  {
   "attachments": {},
   "cell_type": "markdown",
   "metadata": {},
   "source": [
    "Cleaner solution"
   ]
  },
  {
   "cell_type": "code",
   "execution_count": null,
   "metadata": {},
   "outputs": [],
   "source": []
  },
  {
   "cell_type": "code",
   "execution_count": 122,
   "metadata": {},
   "outputs": [],
   "source": [
    "def summaryRanges(nums):\n",
    "    \n",
    "    res=[]\n",
    "    i=0\n",
    "    while i < len(nums):\n",
    "        start=nums[i]\n",
    "        while i<len(nums)-1 and nums[i]+1==nums[i+1]:\n",
    "                i=i+1\n",
    "        if start == nums[i]: res.append(str(start))\n",
    "        else: res.append(str(start)+\"->\"+str(nums[i]))\n",
    "        i=i+1\n",
    "    return res"
   ]
  },
  {
   "cell_type": "code",
   "execution_count": 124,
   "metadata": {},
   "outputs": [
    {
     "data": {
      "text/plain": [
       "['0', '2->4', '6', '8->9']"
      ]
     },
     "execution_count": 124,
     "metadata": {},
     "output_type": "execute_result"
    }
   ],
   "source": [
    "nums = [0,1,2,4,5,7]\n",
    "nums = [0,2,3,4,6,8,9]\n",
    "# nums = [-1]\n",
    "summaryRanges(nums)"
   ]
  },
  {
   "attachments": {},
   "cell_type": "markdown",
   "metadata": {},
   "source": []
  },
  {
   "cell_type": "markdown",
   "metadata": {},
   "source": []
  }
 ],
 "metadata": {
  "kernelspec": {
   "display_name": "Python 3",
   "language": "python",
   "name": "python3"
  },
  "language_info": {
   "codemirror_mode": {
    "name": "ipython",
    "version": 3
   },
   "file_extension": ".py",
   "mimetype": "text/x-python",
   "name": "python",
   "nbconvert_exporter": "python",
   "pygments_lexer": "ipython3",
   "version": "3.10.7"
  },
  "orig_nbformat": 4
 },
 "nbformat": 4,
 "nbformat_minor": 2
}
